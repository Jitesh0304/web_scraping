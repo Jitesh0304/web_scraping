{
 "cells": [
  {
   "cell_type": "code",
   "execution_count": 1,
   "id": "fed57579",
   "metadata": {},
   "outputs": [],
   "source": [
    "import requests\n",
    "from bs4 import BeautifulSoup as bs\n",
    "import csv\n",
    "import pandas as pd"
   ]
  },
  {
   "cell_type": "code",
   "execution_count": 18,
   "id": "d193cce1",
   "metadata": {},
   "outputs": [],
   "source": [
    "import urllib.request"
   ]
  },
  {
   "cell_type": "code",
   "execution_count": 19,
   "id": "c4dbe78f",
   "metadata": {},
   "outputs": [],
   "source": [
    "url = 'https://en.wikipedia.org/wiki/Programming_languages_used_in_most_popular_websites'"
   ]
  },
  {
   "cell_type": "code",
   "execution_count": 20,
   "id": "b14a93d7",
   "metadata": {},
   "outputs": [],
   "source": [
    "with urllib.request.urlopen(url) as i:\n",
    "    html = i.read()"
   ]
  },
  {
   "cell_type": "code",
   "execution_count": 21,
   "id": "4ee3e979",
   "metadata": {},
   "outputs": [],
   "source": [
    "data = pd.read_html(html)"
   ]
  },
  {
   "cell_type": "code",
   "execution_count": 23,
   "id": "1b706ba1",
   "metadata": {},
   "outputs": [
    {
     "name": "stdout",
     "output_type": "stream",
     "text": [
      "         Websites Popularity(unique visitors per month)[1]  \\\n",
      "0       Google[2]                               2500000000   \n",
      "1        Facebook                               1120000000   \n",
      "2         YouTube                               1100000000   \n",
      "3           Yahoo                                750000000   \n",
      "4            Etsy      516,000,000 (Total, not unique)[15]   \n",
      "5          Amazon                        2,400,000,000[19]   \n",
      "6       Wikipedia                                475000000   \n",
      "7          Fandom                          315,000,000[23]   \n",
      "8         Twitter                                290000000   \n",
      "9            Bing                                285000000   \n",
      "10           eBay                                285000000   \n",
      "11            MSN                                280000000   \n",
      "12       LinkedIn                                260000000   \n",
      "13      Pinterest                                250000000   \n",
      "14  WordPress.com                         240,000,000 [36]   \n",
      "\n",
      "    Front-end(Client-side)                              Back-end(Server-side)  \\\n",
      "0   JavaScript, TypeScript                  C, C++, Go,[3] Java, Python, Node   \n",
      "1               JavaScript  Hack, PHP (HHVM), Python, C++, Java, Erlang, D...   \n",
      "2   JavaScript, TypeScript                           C, C++, Java,[11] Go[12]   \n",
      "3               JavaScript                                                PHP   \n",
      "4               JavaScript                                        PHP[16][17]   \n",
      "5               JavaScript                                Java, C++, Perl[20]   \n",
      "6               JavaScript                                                PHP   \n",
      "7               JavaScript                                                PHP   \n",
      "8               JavaScript                     C++, Java,[24] Scala,[25] Ruby   \n",
      "9               JavaScript                                            C++, C#   \n",
      "10              JavaScript                Java,[27] JavaScript,[28] Scala[29]   \n",
      "11              JavaScript                                                 C#   \n",
      "12              JavaScript                        Java, JavaScript,[30] Scala   \n",
      "13              JavaScript            Python (Django),[33] Erlang, Elixir[34]   \n",
      "14              JavaScript                                            PHP[37]   \n",
      "\n",
      "                                      Database  \\\n",
      "0                      Bigtable,[4] MariaDB[5]   \n",
      "1      MariaDB, MySQL,[9] HBase, Cassandra[10]   \n",
      "2             Vitess, BigTable, MariaDB[5][13]   \n",
      "3   PostgreSQL, HBase, Cassandra, MongoDB,[14]   \n",
      "4                             MySQL, Redis[18]   \n",
      "5           DynamoDB, RDS/Aurora, Redshift[21]   \n",
      "6                                  MariaDB[22]   \n",
      "7                                        MySQL   \n",
      "8                                    MySQL[26]   \n",
      "9              Microsoft SQL Server, Cosmos DB   \n",
      "10                             Oracle Database   \n",
      "11                        Microsoft SQL Server   \n",
      "12                              Venice[31][32]   \n",
      "13                            MySQL, Redis[35]   \n",
      "14                                 MariaDB[38]   \n",
      "\n",
      "                                                Notes  \n",
      "0            The most used search engine in the world  \n",
      "1             The most visited social networking site  \n",
      "2   The most popular video sharing site [YouTube i...  \n",
      "3                                                 NaN  \n",
      "4                                 E-commerce website.  \n",
      "5          The most used e-commerce site in the world  \n",
      "6   A free online encyclopedia based on MediaWiki,...  \n",
      "7                               Wiki hosting service.  \n",
      "8                              Popular social network  \n",
      "9                       Search engine from Microsoft.  \n",
      "10                              Online auction house.  \n",
      "11  An email client, for simple use. Previously kn...  \n",
      "12              World's largest professional network.  \n",
      "13                           Search engine for ideas.  \n",
      "14                          Website manager software.  \n"
     ]
    }
   ],
   "source": [
    "print(data[0])"
   ]
  },
  {
   "cell_type": "code",
   "execution_count": null,
   "id": "1b05e438",
   "metadata": {},
   "outputs": [],
   "source": []
  }
 ],
 "metadata": {
  "kernelspec": {
   "display_name": "Python 3 (ipykernel)",
   "language": "python",
   "name": "python3"
  },
  "language_info": {
   "codemirror_mode": {
    "name": "ipython",
    "version": 3
   },
   "file_extension": ".py",
   "mimetype": "text/x-python",
   "name": "python",
   "nbconvert_exporter": "python",
   "pygments_lexer": "ipython3",
   "version": "3.9.12"
  }
 },
 "nbformat": 4,
 "nbformat_minor": 5
}
