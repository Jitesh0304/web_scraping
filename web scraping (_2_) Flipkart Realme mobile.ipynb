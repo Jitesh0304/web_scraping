{
 "cells": [
  {
   "cell_type": "code",
   "execution_count": 1,
   "id": "93b1ff59",
   "metadata": {},
   "outputs": [],
   "source": [
    "import pandas as pd\n",
    "from bs4 import BeautifulSoup\n",
    "import csv\n",
    "import requests"
   ]
  },
  {
   "cell_type": "code",
   "execution_count": 2,
   "id": "f8ba30a4",
   "metadata": {},
   "outputs": [],
   "source": [
    "url = \"https://www.flipkart.com/mobiles/pr?sid=tyy%2C4io&p%5B%5D=facets.brand%255B%255D%3DRealme&otracker=nmenu_sub_Electronics_0_Realme\""
   ]
  },
  {
   "cell_type": "code",
   "execution_count": 3,
   "id": "8fc64f84",
   "metadata": {},
   "outputs": [],
   "source": [
    "req = requests.get(url)"
   ]
  },
  {
   "cell_type": "code",
   "execution_count": 4,
   "id": "8df777af",
   "metadata": {},
   "outputs": [],
   "source": [
    "content = BeautifulSoup(req.content,'html.parser')"
   ]
  },
  {
   "cell_type": "code",
   "execution_count": 5,
   "id": "801ca047",
   "metadata": {},
   "outputs": [],
   "source": [
    "name =  content.find_all('div',{\"class\":\"_4rR01T\"})\n",
    "\n",
    "price =  content.find_all('div',{\"class\":\"_30jeq3 _1_WHN1\"})\n",
    "    \n",
    "rating =  content.find_all('div',{\"class\":\"_3LWZlK\"})"
   ]
  },
  {
   "cell_type": "code",
   "execution_count": 6,
   "id": "cf1f58ab",
   "metadata": {},
   "outputs": [
    {
     "name": "stdout",
     "output_type": "stream",
     "text": [
      "[<div class=\"_4rR01T\">realme C33 (Aqua Blue, 64 GB)</div>, <div class=\"_4rR01T\">realme C33 (Sandy Gold, 32 GB)</div>, <div class=\"_4rR01T\">realme C33 (Aqua Blue, 32 GB)</div>, <div class=\"_4rR01T\">realme C33 (Sandy Gold, 64 GB)</div>, <div class=\"_4rR01T\">realme C33 (Night Sea, 32 GB)</div>, <div class=\"_4rR01T\">realme C33 (Night Sea, 64 GB)</div>, <div class=\"_4rR01T\">realme C35 (Glowing Black, 64 GB)</div>, <div class=\"_4rR01T\">realme C30 (Lake Blue, 32 GB)</div>, <div class=\"_4rR01T\">realme C30 (Denim Black, 32 GB)</div>, <div class=\"_4rR01T\">realme C30 (Bamboo Green, 32 GB)</div>, <div class=\"_4rR01T\">realme C35 (Glowing Green, 64 GB)</div>, <div class=\"_4rR01T\">realme C35 (Glowing Black, 128 GB)</div>, <div class=\"_4rR01T\">realme 9 5G (Supersonic Blue, 128 GB)</div>, <div class=\"_4rR01T\">realme 9 5G (Meteor Black, 64 GB)</div>, <div class=\"_4rR01T\">realme C30 (Denim Black, 32 GB)</div>, <div class=\"_4rR01T\">realme 9 5G (Supersonic Blue, 64 GB)</div>, <div class=\"_4rR01T\">realme 9 5G (Stargaze White, 64 GB)</div>, <div class=\"_4rR01T\">realme 9 5G (Supersonic Black, 64 GB)</div>, <div class=\"_4rR01T\">realme 9 5G (Meteor Black, 128 GB)</div>, <div class=\"_4rR01T\">realme 9 5G (Stargaze White, 128 GB)</div>, <div class=\"_4rR01T\">realme 9 Pro 5G (Aurora Green, 128 GB)</div>, <div class=\"_4rR01T\">realme 9i (Prism Black, 128 GB)</div>, <div class=\"_4rR01T\">Realme C30 - Locked with Airtel Prepaid (Lake Blue, 32 GB)</div>, <div class=\"_4rR01T\">Realme C30 - Locked with Airtel Prepaid (Bamboo Green, 32 GB)</div>]\n"
     ]
    }
   ],
   "source": [
    "print(name)"
   ]
  },
  {
   "cell_type": "code",
   "execution_count": 7,
   "id": "ab7bc8f9",
   "metadata": {},
   "outputs": [
    {
     "name": "stdout",
     "output_type": "stream",
     "text": [
      "<div class=\"_4rR01T\">realme C33 (Aqua Blue, 64 GB)</div>\n"
     ]
    }
   ],
   "source": [
    "print(name[0])"
   ]
  },
  {
   "cell_type": "code",
   "execution_count": 8,
   "id": "3d5080c2",
   "metadata": {},
   "outputs": [
    {
     "name": "stdout",
     "output_type": "stream",
     "text": [
      "<div class=\"_30jeq3 _1_WHN1\">₹8,999</div>\n"
     ]
    }
   ],
   "source": [
    "print(price[3])"
   ]
  },
  {
   "cell_type": "code",
   "execution_count": 9,
   "id": "88addc6d",
   "metadata": {},
   "outputs": [
    {
     "name": "stdout",
     "output_type": "stream",
     "text": [
      "<div class=\"_3LWZlK\">4.5<img class=\"_1wB99o\" src=\"data:image/svg+xml;base64,PHN2ZyB4bWxucz0iaHR0cDovL3d3dy53My5vcmcvMjAwMC9zdmciIHdpZHRoPSIxMyIgaGVpZ2h0PSIxMiI+PHBhdGggZmlsbD0iI0ZGRiIgZD0iTTYuNSA5LjQzOWwtMy42NzQgMi4yMy45NC00LjI2LTMuMjEtMi44ODMgNC4yNTQtLjQwNEw2LjUuMTEybDEuNjkgNC4wMSA0LjI1NC40MDQtMy4yMSAyLjg4Mi45NCA0LjI2eiIvPjwvc3ZnPg==\"/></div>\n"
     ]
    }
   ],
   "source": [
    "print(rating[2])"
   ]
  },
  {
   "cell_type": "code",
   "execution_count": 10,
   "id": "b86bd0d9",
   "metadata": {},
   "outputs": [
    {
     "name": "stdout",
     "output_type": "stream",
     "text": [
      "24\n"
     ]
    }
   ],
   "source": [
    "print(len(rating))"
   ]
  },
  {
   "cell_type": "code",
   "execution_count": 11,
   "id": "cf00d335",
   "metadata": {},
   "outputs": [],
   "source": [
    "name_of_product = []\n",
    "price_of_product = []\n",
    "rating_of_the_product = []"
   ]
  },
  {
   "cell_type": "code",
   "execution_count": 12,
   "id": "beaa5cd7",
   "metadata": {},
   "outputs": [],
   "source": [
    "for i in name:\n",
    "    name_of_product.append(i.text)\n",
    "        \n",
    "for i in price:\n",
    "    price_of_product.append(i.text)\n",
    "        \n",
    "for i in rating:\n",
    "    rating_of_the_product.append(i.text)"
   ]
  },
  {
   "cell_type": "code",
   "execution_count": 13,
   "id": "e4a380e7",
   "metadata": {},
   "outputs": [
    {
     "name": "stdout",
     "output_type": "stream",
     "text": [
      "                                                 NAME    PRICE RATING\n",
      "0                       realme C33 (Aqua Blue, 64 GB)   ₹8,999    4.6\n",
      "1                      realme C33 (Sandy Gold, 32 GB)   ₹7,999    4.5\n",
      "2                       realme C33 (Aqua Blue, 32 GB)   ₹7,999    4.5\n",
      "3                      realme C33 (Sandy Gold, 64 GB)   ₹8,999    4.6\n",
      "4                       realme C33 (Night Sea, 32 GB)   ₹7,999    4.5\n",
      "5                       realme C33 (Night Sea, 64 GB)   ₹8,999    4.6\n",
      "6                   realme C35 (Glowing Black, 64 GB)  ₹10,999    4.3\n",
      "7                       realme C30 (Lake Blue, 32 GB)   ₹6,999    4.4\n",
      "8                     realme C30 (Denim Black, 32 GB)   ₹6,999    4.4\n",
      "9                    realme C30 (Bamboo Green, 32 GB)   ₹6,999    4.4\n",
      "10                  realme C35 (Glowing Green, 64 GB)  ₹10,999    4.3\n",
      "11                 realme C35 (Glowing Black, 128 GB)  ₹11,999    4.3\n",
      "12              realme 9 5G (Supersonic Blue, 128 GB)  ₹13,499    4.5\n",
      "13                  realme 9 5G (Meteor Black, 64 GB)  ₹11,999    4.5\n",
      "14                    realme C30 (Denim Black, 32 GB)   ₹6,499    4.1\n",
      "15               realme 9 5G (Supersonic Blue, 64 GB)  ₹11,999    4.5\n",
      "16                realme 9 5G (Stargaze White, 64 GB)  ₹11,999    4.5\n",
      "17              realme 9 5G (Supersonic Black, 64 GB)  ₹11,999    4.5\n",
      "18                 realme 9 5G (Meteor Black, 128 GB)  ₹13,499    4.5\n",
      "19               realme 9 5G (Stargaze White, 128 GB)  ₹13,499    4.5\n",
      "20             realme 9 Pro 5G (Aurora Green, 128 GB)  ₹16,999    4.3\n",
      "21                    realme 9i (Prism Black, 128 GB)  ₹11,499    4.5\n",
      "22  Realme C30 - Locked with Airtel Prepaid (Lake ...   ₹6,399    4.4\n",
      "23  Realme C30 - Locked with Airtel Prepaid (Bambo...   ₹6,399    4.4\n"
     ]
    }
   ],
   "source": [
    "data = {'NAME':name_of_product , 'PRICE':price_of_product , 'RATING':rating_of_the_product}\n",
    "df= pd.DataFrame(data)\n",
    "print(df)"
   ]
  },
  {
   "cell_type": "code",
   "execution_count": 14,
   "id": "7fe8a27c",
   "metadata": {},
   "outputs": [],
   "source": [
    "df.to_csv('flipkart_realme_mobile.csv')"
   ]
  },
  {
   "cell_type": "code",
   "execution_count": null,
   "id": "eadfa208",
   "metadata": {},
   "outputs": [],
   "source": []
  }
 ],
 "metadata": {
  "kernelspec": {
   "display_name": "Python 3 (ipykernel)",
   "language": "python",
   "name": "python3"
  },
  "language_info": {
   "codemirror_mode": {
    "name": "ipython",
    "version": 3
   },
   "file_extension": ".py",
   "mimetype": "text/x-python",
   "name": "python",
   "nbconvert_exporter": "python",
   "pygments_lexer": "ipython3",
   "version": "3.9.12"
  }
 },
 "nbformat": 4,
 "nbformat_minor": 5
}
